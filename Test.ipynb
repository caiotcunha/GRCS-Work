{
 "cells": [
  {
   "cell_type": "code",
   "execution_count": 1,
   "metadata": {},
   "outputs": [],
   "source": [
    "import pandas as pd"
   ]
  },
  {
   "cell_type": "code",
   "execution_count": 2,
   "metadata": {},
   "outputs": [
    {
     "data": {
      "text/html": [
       "<div>\n",
       "<style scoped>\n",
       "    .dataframe tbody tr th:only-of-type {\n",
       "        vertical-align: middle;\n",
       "    }\n",
       "\n",
       "    .dataframe tbody tr th {\n",
       "        vertical-align: top;\n",
       "    }\n",
       "\n",
       "    .dataframe thead th {\n",
       "        text-align: right;\n",
       "    }\n",
       "</style>\n",
       "<table border=\"1\" class=\"dataframe\">\n",
       "  <thead>\n",
       "    <tr style=\"text-align: right;\">\n",
       "      <th></th>\n",
       "      <th>Packet ID</th>\n",
       "      <th>TIME</th>\n",
       "      <th>Size</th>\n",
       "      <th>eth.src</th>\n",
       "      <th>eth.dst</th>\n",
       "      <th>IP.src</th>\n",
       "      <th>IP.dst</th>\n",
       "      <th>IP.proto</th>\n",
       "      <th>port.src</th>\n",
       "      <th>port.dst</th>\n",
       "    </tr>\n",
       "  </thead>\n",
       "  <tbody>\n",
       "    <tr>\n",
       "      <th>0</th>\n",
       "      <td>1</td>\n",
       "      <td>1475499602</td>\n",
       "      <td>156</td>\n",
       "      <td>30:8c:fb:2f:e4:b2</td>\n",
       "      <td>14:cc:20:51:33:ea</td>\n",
       "      <td>192.168.1.106</td>\n",
       "      <td>52.87.241.159</td>\n",
       "      <td>6</td>\n",
       "      <td>47940</td>\n",
       "      <td>443</td>\n",
       "    </tr>\n",
       "    <tr>\n",
       "      <th>1</th>\n",
       "      <td>2</td>\n",
       "      <td>1475499602</td>\n",
       "      <td>66</td>\n",
       "      <td>14:cc:20:51:33:ea</td>\n",
       "      <td>30:8c:fb:2f:e4:b2</td>\n",
       "      <td>52.87.241.159</td>\n",
       "      <td>192.168.1.106</td>\n",
       "      <td>6</td>\n",
       "      <td>443</td>\n",
       "      <td>47940</td>\n",
       "    </tr>\n",
       "    <tr>\n",
       "      <th>2</th>\n",
       "      <td>5</td>\n",
       "      <td>1475499603</td>\n",
       "      <td>87</td>\n",
       "      <td>70:ee:50:18:34:43</td>\n",
       "      <td>14:cc:20:51:33:ea</td>\n",
       "      <td>192.168.1.241</td>\n",
       "      <td>192.168.1.1</td>\n",
       "      <td>17</td>\n",
       "      <td>58728</td>\n",
       "      <td>53</td>\n",
       "    </tr>\n",
       "    <tr>\n",
       "      <th>3</th>\n",
       "      <td>8</td>\n",
       "      <td>1475499603</td>\n",
       "      <td>246</td>\n",
       "      <td>14:cc:20:51:33:ea</td>\n",
       "      <td>70:ee:50:18:34:43</td>\n",
       "      <td>192.168.1.1</td>\n",
       "      <td>192.168.1.241</td>\n",
       "      <td>17</td>\n",
       "      <td>53</td>\n",
       "      <td>58728</td>\n",
       "    </tr>\n",
       "    <tr>\n",
       "      <th>4</th>\n",
       "      <td>9</td>\n",
       "      <td>1475499603</td>\n",
       "      <td>156</td>\n",
       "      <td>30:8c:fb:2f:e4:b2</td>\n",
       "      <td>14:cc:20:51:33:ea</td>\n",
       "      <td>192.168.1.106</td>\n",
       "      <td>52.87.241.159</td>\n",
       "      <td>6</td>\n",
       "      <td>47940</td>\n",
       "      <td>443</td>\n",
       "    </tr>\n",
       "  </tbody>\n",
       "</table>\n",
       "</div>"
      ],
      "text/plain": [
       "   Packet ID        TIME  Size            eth.src            eth.dst  \\\n",
       "0          1  1475499602   156  30:8c:fb:2f:e4:b2  14:cc:20:51:33:ea   \n",
       "1          2  1475499602    66  14:cc:20:51:33:ea  30:8c:fb:2f:e4:b2   \n",
       "2          5  1475499603    87  70:ee:50:18:34:43  14:cc:20:51:33:ea   \n",
       "3          8  1475499603   246  14:cc:20:51:33:ea  70:ee:50:18:34:43   \n",
       "4          9  1475499603   156  30:8c:fb:2f:e4:b2  14:cc:20:51:33:ea   \n",
       "\n",
       "          IP.src         IP.dst  IP.proto  port.src  port.dst  \n",
       "0  192.168.1.106  52.87.241.159         6     47940       443  \n",
       "1  52.87.241.159  192.168.1.106         6       443     47940  \n",
       "2  192.168.1.241    192.168.1.1        17     58728        53  \n",
       "3    192.168.1.1  192.168.1.241        17        53     58728  \n",
       "4  192.168.1.106  52.87.241.159         6     47940       443  "
      ]
     },
     "execution_count": 2,
     "metadata": {},
     "output_type": "execute_result"
    }
   ],
   "source": [
    "df = pd.read_csv(\"./database/16-10-04.csv\")\n",
    "df.head()"
   ]
  },
  {
   "cell_type": "code",
   "execution_count": 6,
   "metadata": {},
   "outputs": [
    {
     "data": {
      "text/html": [
       "<div>\n",
       "<style scoped>\n",
       "    .dataframe tbody tr th:only-of-type {\n",
       "        vertical-align: middle;\n",
       "    }\n",
       "\n",
       "    .dataframe tbody tr th {\n",
       "        vertical-align: top;\n",
       "    }\n",
       "\n",
       "    .dataframe thead th {\n",
       "        text-align: right;\n",
       "    }\n",
       "</style>\n",
       "<table border=\"1\" class=\"dataframe\">\n",
       "  <thead>\n",
       "    <tr style=\"text-align: right;\">\n",
       "      <th></th>\n",
       "      <th>IP.src</th>\n",
       "    </tr>\n",
       "  </thead>\n",
       "  <tbody>\n",
       "    <tr>\n",
       "      <th>0</th>\n",
       "      <td>192.168.1.106</td>\n",
       "    </tr>\n",
       "    <tr>\n",
       "      <th>1</th>\n",
       "      <td>52.87.241.159</td>\n",
       "    </tr>\n",
       "    <tr>\n",
       "      <th>2</th>\n",
       "      <td>192.168.1.241</td>\n",
       "    </tr>\n",
       "    <tr>\n",
       "      <th>3</th>\n",
       "      <td>192.168.1.1</td>\n",
       "    </tr>\n",
       "    <tr>\n",
       "      <th>4</th>\n",
       "      <td>192.168.1.106</td>\n",
       "    </tr>\n",
       "  </tbody>\n",
       "</table>\n",
       "</div>"
      ],
      "text/plain": [
       "          IP.src\n",
       "0  192.168.1.106\n",
       "1  52.87.241.159\n",
       "2  192.168.1.241\n",
       "3    192.168.1.1\n",
       "4  192.168.1.106"
      ]
     },
     "execution_count": 6,
     "metadata": {},
     "output_type": "execute_result"
    }
   ],
   "source": [
    "df = df.drop(['Packet ID','TIME','Size','eth.src','eth.dst','IP.dst','IP.proto','port.src','port.dst'],axis=1)\n",
    "df.head()"
   ]
  },
  {
   "cell_type": "code",
   "execution_count": 8,
   "metadata": {},
   "outputs": [],
   "source": [
    "df.to_csv('./database/ipv4.txt', header=None, index=None, sep=' ', mode='a')"
   ]
  },
  {
   "cell_type": "code",
   "execution_count": null,
   "metadata": {},
   "outputs": [],
   "source": []
  }
 ],
 "metadata": {
  "kernelspec": {
   "display_name": "Python 3",
   "language": "python",
   "name": "python3"
  },
  "language_info": {
   "codemirror_mode": {
    "name": "ipython",
    "version": 3
   },
   "file_extension": ".py",
   "mimetype": "text/x-python",
   "name": "python",
   "nbconvert_exporter": "python",
   "pygments_lexer": "ipython3",
   "version": "3.10.12"
  }
 },
 "nbformat": 4,
 "nbformat_minor": 2
}
